{
  "nbformat": 4,
  "nbformat_minor": 0,
  "metadata": {
    "colab": {
      "name": "20191021.ipynb",
      "provenance": [],
      "collapsed_sections": [],
      "include_colab_link": true
    },
    "kernelspec": {
      "name": "python3",
      "display_name": "Python 3"
    }
  },
  "cells": [
    {
      "cell_type": "markdown",
      "metadata": {
        "id": "view-in-github",
        "colab_type": "text"
      },
      "source": [
        "<a href=\"https://colab.research.google.com/github/LIYUWEN-1005/Python/blob/master/20191021.ipynb\" target=\"_parent\"><img src=\"https://colab.research.google.com/assets/colab-badge.svg\" alt=\"Open In Colab\"/></a>"
      ]
    },
    {
      "cell_type": "markdown",
      "metadata": {
        "id": "OwuY329Q3KxH",
        "colab_type": "text"
      },
      "source": [
        "# **20191021**"
      ]
    },
    {
      "cell_type": "code",
      "metadata": {
        "id": "OBu-iUTG3KfX",
        "colab_type": "code",
        "colab": {
          "base_uri": "https://localhost:8080/",
          "height": 51
        },
        "outputId": "afeceae3-4db2-43f2-8459-4735b7820763"
      },
      "source": [
        "for name in ['orange', 'apple']:\n",
        "\tprint(name)"
      ],
      "execution_count": 3,
      "outputs": [
        {
          "output_type": "stream",
          "text": [
            "orange\n",
            "apple\n"
          ],
          "name": "stdout"
        }
      ]
    },
    {
      "cell_type": "code",
      "metadata": {
        "id": "9Id5QkF3JVRg",
        "colab_type": "code",
        "colab": {
          "base_uri": "https://localhost:8080/",
          "height": 51
        },
        "outputId": "809bb1ea-7075-4b8a-acef-7e5ce1a95299"
      },
      "source": [
        "names = ['Christopher', 'Susan']\n",
        "index = 0\n",
        "while index < len(names):\n",
        "    name = names[index]\n",
        "    print(name)\n",
        "    index = index + 1"
      ],
      "execution_count": 43,
      "outputs": [
        {
          "output_type": "stream",
          "text": [
            "Christopher\n",
            "Susan\n"
          ],
          "name": "stdout"
        }
      ]
    },
    {
      "cell_type": "code",
      "metadata": {
        "id": "lPKFRHKQPjuX",
        "colab_type": "code",
        "colab": {
          "base_uri": "https://localhost:8080/",
          "height": 34
        },
        "outputId": "c08f6f11-7631-43a1-8501-6bd151c7bfdb"
      },
      "source": [
        "    sum = 0\n",
        "    x=1\n",
        "    while x < 101:\n",
        "        sum = sum + x\n",
        "        x+=1\n",
        "print(sum)"
      ],
      "execution_count": 57,
      "outputs": [
        {
          "output_type": "stream",
          "text": [
            "5050\n"
          ],
          "name": "stdout"
        }
      ]
    },
    {
      "cell_type": "code",
      "metadata": {
        "id": "QqH9dH4mWoeN",
        "colab_type": "code",
        "colab": {
          "base_uri": "https://localhost:8080/",
          "height": 34
        },
        "outputId": "b1b3bbc0-29e7-423f-bdff-b89083699351"
      },
      "source": [
        "    sum = 0\n",
        "    x=1\n",
        "    while x < 101:\n",
        "        sum = sum + x\n",
        "        x+=2\n",
        "print(sum)"
      ],
      "execution_count": 58,
      "outputs": [
        {
          "output_type": "stream",
          "text": [
            "2500\n"
          ],
          "name": "stdout"
        }
      ]
    },
    {
      "cell_type": "code",
      "metadata": {
        "id": "6l0caN8FXA_8",
        "colab_type": "code",
        "colab": {
          "base_uri": "https://localhost:8080/",
          "height": 34
        },
        "outputId": "9d3b878e-99bb-4fb5-fd41-eb79ca3e89f3"
      },
      "source": [
        "    sum = 1\n",
        "    x=1\n",
        "    while x < 101:\n",
        "        sum = sum * x\n",
        "        x+=2\n",
        "print(sum)"
      ],
      "execution_count": 60,
      "outputs": [
        {
          "output_type": "stream",
          "text": [
            "2725392139750729502980713245400918633290796330545803413734328823443106201171875\n"
          ],
          "name": "stdout"
        }
      ]
    },
    {
      "cell_type": "code",
      "metadata": {
        "id": "d0qZAe-D3Cjm",
        "colab_type": "code",
        "colab": {
          "base_uri": "https://localhost:8080/",
          "height": 119
        },
        "outputId": "e11d564f-3a9a-4dab-b400-c25c73a217a4"
      },
      "source": [
        "for index in range(0, 6):\n",
        "\tprint(index)"
      ],
      "execution_count": 4,
      "outputs": [
        {
          "output_type": "stream",
          "text": [
            "0\n",
            "1\n",
            "2\n",
            "3\n",
            "4\n",
            "5\n"
          ],
          "name": "stdout"
        }
      ]
    },
    {
      "cell_type": "code",
      "metadata": {
        "id": "yWgqolMc5BYP",
        "colab_type": "code",
        "colab": {
          "base_uri": "https://localhost:8080/",
          "height": 34
        },
        "outputId": "8e7b1afe-2930-4197-b05d-32a00292b384"
      },
      "source": [
        "print(\"hello guys!\")"
      ],
      "execution_count": 5,
      "outputs": [
        {
          "output_type": "stream",
          "text": [
            "hello guys!\n"
          ],
          "name": "stdout"
        }
      ]
    },
    {
      "cell_type": "code",
      "metadata": {
        "id": "p525TtC16L8s",
        "colab_type": "code",
        "colab": {
          "base_uri": "https://localhost:8080/",
          "height": 34
        },
        "outputId": "58461a17-9484-4d70-b63b-601c24422540"
      },
      "source": [
        "print(3*5*(15-5))"
      ],
      "execution_count": 7,
      "outputs": [
        {
          "output_type": "stream",
          "text": [
            "150\n"
          ],
          "name": "stdout"
        }
      ]
    },
    {
      "cell_type": "code",
      "metadata": {
        "id": "EYG3XlD-6Sc-",
        "colab_type": "code",
        "colab": {
          "base_uri": "https://localhost:8080/",
          "height": 34
        },
        "outputId": "7eb27835-8c4e-470f-c86e-2ec76986b1e8"
      },
      "source": [
        "print(\"3*5*(15-5)\")"
      ],
      "execution_count": 8,
      "outputs": [
        {
          "output_type": "stream",
          "text": [
            "3*5*(15-5)\n"
          ],
          "name": "stdout"
        }
      ]
    },
    {
      "cell_type": "code",
      "metadata": {
        "id": "YCoboN696aeG",
        "colab_type": "code",
        "colab": {
          "base_uri": "https://localhost:8080/",
          "height": 34
        },
        "outputId": "f3b9c5c1-c2d0-445b-fe95-a1231f9ca3a5"
      },
      "source": [
        "print(\"abc\"+\"def\")"
      ],
      "execution_count": 10,
      "outputs": [
        {
          "output_type": "stream",
          "text": [
            "abcdef\n"
          ],
          "name": "stdout"
        }
      ]
    },
    {
      "cell_type": "code",
      "metadata": {
        "id": "nv7CIgdB6oYl",
        "colab_type": "code",
        "colab": {
          "base_uri": "https://localhost:8080/",
          "height": 34
        },
        "outputId": "9bbcb9a2-733b-4323-b6ce-1a32d12ce04b"
      },
      "source": [
        "word = \"art\"\n",
        "print(word.replace(\"r\", \"n\"))"
      ],
      "execution_count": 11,
      "outputs": [
        {
          "output_type": "stream",
          "text": [
            "ant\n"
          ],
          "name": "stdout"
        }
      ]
    },
    {
      "cell_type": "code",
      "metadata": {
        "id": "3mF7bZFi6qnl",
        "colab_type": "code",
        "colab": {
          "base_uri": "https://localhost:8080/",
          "height": 34
        },
        "outputId": "36043e18-c420-4ae6-d101-93942c9f8aea"
      },
      "source": [
        "print(\"abc\"\"+\"\"def\")"
      ],
      "execution_count": 13,
      "outputs": [
        {
          "output_type": "stream",
          "text": [
            "abc+def\n"
          ],
          "name": "stdout"
        }
      ]
    },
    {
      "cell_type": "code",
      "metadata": {
        "id": "lauE2WlV8FC2",
        "colab_type": "code",
        "colab": {
          "base_uri": "https://localhost:8080/",
          "height": 34
        },
        "outputId": "e72b27d8-4250-43e4-f9f3-e2dbd4c43d0d"
      },
      "source": [
        "print(\"3*2*(17-2)\")"
      ],
      "execution_count": 14,
      "outputs": [
        {
          "output_type": "stream",
          "text": [
            "3*2*(17-2)\n"
          ],
          "name": "stdout"
        }
      ]
    },
    {
      "cell_type": "code",
      "metadata": {
        "id": "PEyhmrtG8GLt",
        "colab_type": "code",
        "colab": {
          "base_uri": "https://localhost:8080/",
          "height": 51
        },
        "outputId": "6626f8b2-5f11-4f95-f3ea-af67978a90d0"
      },
      "source": [
        "for name in ['orange', 'apple']:\n",
        "\tprint(name)\n"
      ],
      "execution_count": 15,
      "outputs": [
        {
          "output_type": "stream",
          "text": [
            "orange\n",
            "apple\n"
          ],
          "name": "stdout"
        }
      ]
    },
    {
      "cell_type": "code",
      "metadata": {
        "id": "PHZT4V5m9BcG",
        "colab_type": "code",
        "colab": {
          "base_uri": "https://localhost:8080/",
          "height": 119
        },
        "outputId": "9e991f7f-b5b5-45cc-8c30-5d2c2d15702a"
      },
      "source": [
        "for index in range(0, 6):\n",
        "\tprint(index)"
      ],
      "execution_count": 16,
      "outputs": [
        {
          "output_type": "stream",
          "text": [
            "0\n",
            "1\n",
            "2\n",
            "3\n",
            "4\n",
            "5\n"
          ],
          "name": "stdout"
        }
      ]
    },
    {
      "cell_type": "code",
      "metadata": {
        "id": "xNnbdnADAFhA",
        "colab_type": "code",
        "colab": {
          "base_uri": "https://localhost:8080/",
          "height": 34
        },
        "outputId": "0fba15a9-0e8d-4160-e6b9-cb3871629a5b"
      },
      "source": [
        "print(\"hello!\")"
      ],
      "execution_count": 18,
      "outputs": [
        {
          "output_type": "stream",
          "text": [
            "hello!\n"
          ],
          "name": "stdout"
        }
      ]
    },
    {
      "cell_type": "code",
      "metadata": {
        "id": "IVxmnlQHAI-L",
        "colab_type": "code",
        "colab": {
          "base_uri": "https://localhost:8080/",
          "height": 34
        },
        "outputId": "846cb5fa-a7e9-486b-be1d-4ce03269f897"
      },
      "source": [
        "print(3*2*(17-2 ))"
      ],
      "execution_count": 19,
      "outputs": [
        {
          "output_type": "stream",
          "text": [
            "90\n"
          ],
          "name": "stdout"
        }
      ]
    },
    {
      "cell_type": "code",
      "metadata": {
        "id": "t3sd8W9GBy9-",
        "colab_type": "code",
        "colab": {}
      },
      "source": [
        ""
      ],
      "execution_count": 0,
      "outputs": []
    },
    {
      "cell_type": "code",
      "metadata": {
        "id": "BmrXEKHRAffb",
        "colab_type": "code",
        "colab": {
          "base_uri": "https://localhost:8080/",
          "height": 34
        },
        "outputId": "95e48fb2-43ac-4665-c093-44a9c60047f9"
      },
      "source": [
        "print(\"abc\"+\"def\")"
      ],
      "execution_count": 20,
      "outputs": [
        {
          "output_type": "stream",
          "text": [
            "abcdef\n"
          ],
          "name": "stdout"
        }
      ]
    },
    {
      "cell_type": "code",
      "metadata": {
        "id": "agXlMXNGAjtz",
        "colab_type": "code",
        "colab": {
          "base_uri": "https://localhost:8080/",
          "height": 34
        },
        "outputId": "84075d10-fe29-45d6-b5bb-8d97a9309102"
      },
      "source": [
        "word=\"art\"\n",
        "print(word.replace(\"r\",\"nnnnnn\"))"
      ],
      "execution_count": 21,
      "outputs": [
        {
          "output_type": "stream",
          "text": [
            "annnnnnt\n"
          ],
          "name": "stdout"
        }
      ]
    },
    {
      "cell_type": "code",
      "metadata": {
        "id": "-E_X1LvgCRDs",
        "colab_type": "code",
        "colab": {
          "base_uri": "https://localhost:8080/",
          "height": 34
        },
        "outputId": "1581ab2d-38a7-43d7-8191-2c7ad1b08f7a"
      },
      "source": [
        "word=\"artqrrqqrr\"\n",
        "print(word.replace(\"r\",\"nn\",3))"
      ],
      "execution_count": 23,
      "outputs": [
        {
          "output_type": "stream",
          "text": [
            "anntqnnnnqqrr\n"
          ],
          "name": "stdout"
        }
      ]
    },
    {
      "cell_type": "code",
      "metadata": {
        "id": "d4jY2zvC9DhV",
        "colab_type": "code",
        "colab": {
          "base_uri": "https://localhost:8080/",
          "height": 34
        },
        "outputId": "3a640a54-4931-4002-f890-b31901a8b191"
      },
      "source": [
        "word = \"arttarataaa\"\n",
        "print(word.replace(\"a\",\"z\",3))"
      ],
      "execution_count": 17,
      "outputs": [
        {
          "output_type": "stream",
          "text": [
            "zrttzrztaaa\n"
          ],
          "name": "stdout"
        }
      ]
    },
    {
      "cell_type": "code",
      "metadata": {
        "id": "2xNzeRNHF4XS",
        "colab_type": "code",
        "colab": {}
      },
      "source": [
        ""
      ],
      "execution_count": 0,
      "outputs": []
    },
    {
      "cell_type": "code",
      "metadata": {
        "id": "oDlNFg7fDq4K",
        "colab_type": "code",
        "colab": {}
      },
      "source": [
        "sum=0 \n",
        "for x in range(1,101):\n",
        "  sum += x\n",
        "  print(sum)"
      ],
      "execution_count": 0,
      "outputs": []
    },
    {
      "cell_type": "code",
      "metadata": {
        "id": "VAOCswU3EZNi",
        "colab_type": "code",
        "colab": {}
      },
      "source": [
        "sum=0 \n",
        "for x in range(1,100,2):\n",
        "  sum += x\n",
        "  print(sum)"
      ],
      "execution_count": 0,
      "outputs": []
    },
    {
      "cell_type": "code",
      "metadata": {
        "id": "e2_krxqQIdUr",
        "colab_type": "code",
        "colab": {
          "base_uri": "https://localhost:8080/",
          "height": 867
        },
        "outputId": "69d12816-b2b6-40f6-b3d8-4ecd6b3577b7"
      },
      "source": [
        "sum=1 \n",
        "for x in range(1,101,2):\n",
        "  sum *= x\n",
        "  \n",
        "  print(sum)"
      ],
      "execution_count": 55,
      "outputs": [
        {
          "output_type": "stream",
          "text": [
            "1\n",
            "3\n",
            "15\n",
            "105\n",
            "945\n",
            "10395\n",
            "135135\n",
            "2027025\n",
            "34459425\n",
            "654729075\n",
            "13749310575\n",
            "316234143225\n",
            "7905853580625\n",
            "213458046676875\n",
            "6190283353629375\n",
            "191898783962510625\n",
            "6332659870762850625\n",
            "221643095476699771875\n",
            "8200794532637891559375\n",
            "319830986772877770815625\n",
            "13113070457687988603440625\n",
            "563862029680583509947946875\n",
            "25373791335626257947657609375\n",
            "1192568192774434123539907640625\n",
            "58435841445947272053455474390625\n",
            "2980227913743310874726229193921875\n",
            "157952079428395476360490147277859375\n",
            "8687364368561751199826958100282265625\n",
            "495179769008019818390136611716089140625\n",
            "29215606371473169285018060091249259296875\n",
            "1782151988659863326386101665566204817109375\n",
            "112275575285571389562324404930670903477890625\n",
            "7297912393562140321551086320493608726062890625\n",
            "488960130368663401543922783473071784646213671875\n",
            "33738248995437774706530672059641953140588743359375\n",
            "2395415678676082004163677716234578672981800778515625\n",
            "174865344543353986303948473285124243127671456831640625\n",
            "13114900840751548972796135496384318234575359262373046875\n",
            "1009847364737869270905302433221592504062302663202724609375\n",
            "79777941814291672401518892224505807820921910393015244140625\n",
            "6462013286957625464523030270184970433494674741834234775390625\n",
            "536347102817482913555411512425352545980058003572241486357421875\n",
            "45589503739486047652209978556154966408304930303640526340380859375\n",
            "3966286825335286145742268134385482077522528936416725791613134765625\n",
            "352999527454840466971061863960307904899505075341088595453568994140625\n",
            "32122956998390482494366629620388019345854961856039062186274778466796875\n",
            "2987435000850314871976096554696085799164511452611632783323554397412109375\n",
            "283806325080779912837729172696128150920628587998105114415737667754150390625\n",
            "27529213532835651545259729751524430639300973035816196098326553772152587890625\n",
            "2725392139750729502980713245400918633290796330545803413734328823443106201171875\n"
          ],
          "name": "stdout"
        }
      ]
    },
    {
      "cell_type": "code",
      "metadata": {
        "id": "BQZ-Cd5NJKXQ",
        "colab_type": "code",
        "colab": {}
      },
      "source": [
        "index =0\n",
        "while index <1:\n",
        "  print(\"Hello,大大\")"
      ],
      "execution_count": 0,
      "outputs": []
    },
    {
      "cell_type": "code",
      "metadata": {
        "id": "fzmlKFhrMsWn",
        "colab_type": "code",
        "colab": {}
      },
      "source": [
        "index = 0\n",
        "while index > 1:\n",
        "\tprint(\"Hello, 龍聖\")"
      ],
      "execution_count": 0,
      "outputs": []
    }
  ]
}